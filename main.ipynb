{
 "cells": [
  {
   "cell_type": "code",
   "execution_count": 1,
   "id": "5ae7abba",
   "metadata": {},
   "outputs": [],
   "source": [
    "import cv2\n",
    "import numpy as np"
   ]
  },
  {
   "cell_type": "code",
   "execution_count": null,
   "id": "c711c8a1",
   "metadata": {},
   "outputs": [],
   "source": [
    "image = cv2.imread(\"picture1.png\")\n",
    "image = cv2.resize(image, (256,256), interpolation = cv2.INTER_AREA)\n",
    "    \n",
    "def image_preprocessing(image):\n",
    "    image = cv2.imread(image)\n",
    "    image = cv2.resize(image, (256,256), interpolation = cv2.INTER_AREA)\n",
    "    bilateral_filtered_image = cv2.bilateralFilter(image, 7, 150, 150)\n",
    "    gray_image = cv2.cvtColor(bilateral_filtered_image, cv2.COLOR_BGR2GRAY)\n",
    "    return gray_image\n",
    "\n",
    "# Load the images and apply some preprocessing\n",
    "image1_prepro = image_preprocessing('picture1.png')\n",
    "image2_prepro = image_preprocessing('picture2.png')\n",
    "\n",
    "#  Apply substruction method between the above loaded images\n",
    "image_substraction = cv2.absdiff(image1_prepro, image2_prepro)\n",
    "\n",
    "kernel = np.ones((5,5),np.uint8)\n",
    "image_morphologyEx = cv2.morphologyEx(image_substraction, cv2.MORPH_CLOSE, kernel)\n",
    "_, thresh = cv2.threshold(image_morphologyEx, 0, 255, cv2.THRESH_BINARY + cv2.THRESH_OTSU)\n",
    "\n",
    "# Apply median filters\n",
    "median = cv2.medianBlur(thresh, 5)\n",
    "\n",
    "# detect contours\n",
    "contours, hierarchy = cv2.findContours(median, cv2.RETR_TREE, cv2.CHAIN_APPROX_SIMPLE)\n",
    "\n",
    "# Draw contours\n",
    "cv2.drawContours(image=image, contours=contours, contourIdx=-1, color=(0, 255, 0), thickness=2, lineType=cv2.LINE_AA)\n",
    "\n",
    "# Load and resize orginal images\n",
    "image1_ori = cv2.imread(\"picture1.png\")\n",
    "image1_ori = cv2.resize(image1_ori, (256,256), interpolation = cv2.INTER_AREA)\n",
    "image2_ori = cv2.imread(\"picture2.png\")\n",
    "image2_ori = cv2.resize(image2_ori, (256,256), interpolation = cv2.INTER_AREA)\n",
    "\n",
    "cv2.imwrite(\"object_tracked.png\", image)\n",
    "\n",
    "\n",
    "while True:\n",
    "    # see the results\n",
    "    cv2.imshow('final result', image)\n",
    "    cv2.imshow('image1_prepro', image1_ori)\n",
    "    cv2.imshow('image2_prepro', image2_ori)\n",
    "    \n",
    "    if cv2.waitKey(0) == 27:\n",
    "        cv2.destroyAllWindows()\n",
    "        break\n",
    "\n"
   ]
  },
  {
   "cell_type": "code",
   "execution_count": null,
   "id": "67a970fe",
   "metadata": {},
   "outputs": [],
   "source": []
  }
 ],
 "metadata": {
  "kernelspec": {
   "display_name": "gputest",
   "language": "python",
   "name": "gputest"
  },
  "language_info": {
   "codemirror_mode": {
    "name": "ipython",
    "version": 3
   },
   "file_extension": ".py",
   "mimetype": "text/x-python",
   "name": "python",
   "nbconvert_exporter": "python",
   "pygments_lexer": "ipython3",
   "version": "3.6.13"
  }
 },
 "nbformat": 4,
 "nbformat_minor": 5
}
